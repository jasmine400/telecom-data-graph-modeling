{
  "cells": [
    {
      "cell_type": "markdown",
      "metadata": {
        "id": "view-in-github",
        "colab_type": "text"
      },
      "source": [
        "<a href=\"https://colab.research.google.com/github/jasmine400/telecom-data-graph-modeling/blob/main/query_neo4j_db.ipynb\" target=\"_parent\"><img src=\"https://colab.research.google.com/assets/colab-badge.svg\" alt=\"Open In Colab\"/></a>"
      ]
    },
    {
      "cell_type": "code",
      "execution_count": null,
      "metadata": {
        "colab": {
          "base_uri": "https://localhost:8080/"
        },
        "id": "2h3ZA2JOzy-8",
        "outputId": "0a4f772d-0120-4b08-d003-dab0fc9d3d36"
      },
      "outputs": [
        {
          "output_type": "stream",
          "name": "stdout",
          "text": [
            "Collecting neo4j\n",
            "  Downloading neo4j-5.16.0.tar.gz (197 kB)\n",
            "\u001b[?25l     \u001b[90m━━━━━━━━━━━━━━━━━━━━━━━━━━━━━━━━━━━━━━━━\u001b[0m \u001b[32m0.0/197.8 kB\u001b[0m \u001b[31m?\u001b[0m eta \u001b[36m-:--:--\u001b[0m\r\u001b[2K     \u001b[91m━━━━━━━━━━━━\u001b[0m\u001b[90m╺\u001b[0m\u001b[90m━━━━━━━━━━━━━━━━━━━━━━━━━━━\u001b[0m \u001b[32m61.4/197.8 kB\u001b[0m \u001b[31m1.7 MB/s\u001b[0m eta \u001b[36m0:00:01\u001b[0m\r\u001b[2K     \u001b[90m━━━━━━━━━━━━━━━━━━━━━━━━━━━━━━━━━━━━━━━━\u001b[0m \u001b[32m197.8/197.8 kB\u001b[0m \u001b[31m3.4 MB/s\u001b[0m eta \u001b[36m0:00:00\u001b[0m\n",
            "\u001b[?25h  Installing build dependencies ... \u001b[?25l\u001b[?25hdone\n",
            "  Getting requirements to build wheel ... \u001b[?25l\u001b[?25hdone\n",
            "  Installing backend dependencies ... \u001b[?25l\u001b[?25hdone\n",
            "  Preparing metadata (pyproject.toml) ... \u001b[?25l\u001b[?25hdone\n",
            "Requirement already satisfied: pytz in /usr/local/lib/python3.10/dist-packages (from neo4j) (2023.3.post1)\n",
            "Building wheels for collected packages: neo4j\n",
            "  Building wheel for neo4j (pyproject.toml) ... \u001b[?25l\u001b[?25hdone\n",
            "  Created wheel for neo4j: filename=neo4j-5.16.0-py3-none-any.whl size=273811 sha256=969e36de688fbfe270680d6ebc00c48ef6521e05fc9ad1de0218c8d5d3872a79\n",
            "  Stored in directory: /root/.cache/pip/wheels/20/a0/f6/87a1ec9636c915fe2d6c6e859fd55a6231dd9bc95a1d5394b1\n",
            "Successfully built neo4j\n",
            "Installing collected packages: neo4j\n",
            "Successfully installed neo4j-5.16.0\n"
          ]
        }
      ],
      "source": [
        "!pip install neo4j"
      ]
    },
    {
      "cell_type": "code",
      "execution_count": null,
      "metadata": {
        "id": "0sKG_Fgn0Ik3"
      },
      "outputs": [],
      "source": [
        "from neo4j import GraphDatabase\n",
        "# Replace with the actual URI, username and password\n",
        "AURA_CONNECTION_URI = \"\"\n",
        "AURA_USERNAME = \"\"\n",
        "AURA_PASSWORD =\"\"\n",
        "\n",
        "# Driver instantiation\n",
        "driver = GraphDatabase.driver(\n",
        "    AURA_CONNECTION_URI,\n",
        "    auth=(AURA_USERNAME, AURA_PASSWORD)\n",
        ")"
      ]
    },
    {
      "cell_type": "code",
      "execution_count": null,
      "metadata": {
        "colab": {
          "base_uri": "https://localhost:8080/"
        },
        "id": "uk0McT9H0Zqx",
        "outputId": "c1bf4c7d-2aac-47fa-bd71-bb94fdebccb3"
      },
      "outputs": [
        {
          "output_type": "stream",
          "name": "stdout",
          "text": [
            "/content/drive/MyDrive/telecom\n"
          ]
        }
      ],
      "source": [
        "%cd drive/MyDrive/telecom"
      ]
    },
    {
      "cell_type": "code",
      "execution_count": null,
      "metadata": {
        "id": "4UTbus8l0hgW"
      },
      "outputs": [],
      "source": [
        "import pandas as pd\n",
        "\n",
        "df = pd.read_csv('file9.csv')"
      ]
    },
    {
      "cell_type": "code",
      "execution_count": null,
      "metadata": {
        "id": "svAwwgWw0vPW"
      },
      "outputs": [],
      "source": [
        "import numpy as np\n",
        "import neo4j\n",
        "from pandas import DataFrame"
      ]
    },
    {
      "cell_type": "code",
      "source": [
        "dtid = \"0024000E\"\n",
        "query = f\"\"\"\n",
        "MATCH (x:Packet) WHERE x.pid1 = \"{dtid}\" OR x.pid2 = \"{dtid}\" return ID(x)\n",
        "\"\"\"\n",
        "query2 =f\"\"\"MATCH (a:Packet {{ID: {614}}}) return a\"\"\"\n",
        "a,b,c = driver.execute_query(query2,database_=\"neo4j\",)\n",
        "a[0].data()\n",
        "\n"
      ],
      "metadata": {
        "id": "dB3eHv6hN6ZZ"
      },
      "execution_count": null,
      "outputs": []
    },
    {
      "cell_type": "code",
      "execution_count": null,
      "metadata": {
        "id": "eijreT8a07J5"
      },
      "outputs": [],
      "source": [
        "def optional_match_query(dtid):\n",
        "  # Define an optional match query\n",
        "\n",
        "  query = f\"\"\"\n",
        "  OPTIONAL MATCH (x:Packet) WHERE x.pid1 = \"{dtid}\" OR x.pid2 = \"{dtid}\" return x\n",
        "  \"\"\"\n",
        "\n",
        "  # Execute the query and get the result as a pandas DataFrame\n",
        "  dataframe = driver.execute_query(\n",
        "      query,\n",
        "      database_=\"neo4j\",\n",
        "      result_transformer_=neo4j.Result.to_df\n",
        "  )\n",
        "\n",
        "  # Print the dataframe\n",
        "  # print(dataframe)\n",
        "  res=dataframe.isnull().iloc[0,0]\n",
        "  return(res)"
      ]
    },
    {
      "cell_type": "code",
      "source": [
        "def match_origin_role(originrole,ogt):\n",
        "  # originrole=str(df['originRole'][0])\n",
        "  # ogt = str(df['ogt'][0])\n",
        "  query =f\"\"\"MATCH (a:Role {{role: \"{originrole}\",r_id:\"{ogt}\"}}) return a\"\"\"\n",
        "\n",
        "\n",
        "\n",
        "  a,b,c = driver.execute_query(query,database_=\"neo4j\",)\n",
        "  print(a[0].data())\n",
        "  if len(a)>0:\n",
        "    return True\n",
        "  else:\n",
        "    return False\n",
        "\n"
      ],
      "metadata": {
        "colab": {
          "base_uri": "https://localhost:8080/"
        },
        "id": "CZI10w7ORBln",
        "outputId": "6d943a07-d45d-493f-d25a-f6f42df8999f"
      },
      "execution_count": null,
      "outputs": [
        {
          "output_type": "execute_result",
          "data": {
            "text/plain": [
              "{'a': {'role': 'VLR', 'r_id': '25671555595'}}"
            ]
          },
          "metadata": {},
          "execution_count": 21
        }
      ]
    },
    {
      "cell_type": "code",
      "source": [
        "query = \"\"\"MATCH (p:Gt {gtid:\"25473118908\"}), (q:Role {role: 'HLR'}) RETURN EXISTS((p)-[:has]-(q))\"\"\"\n",
        "a,b,c = driver.execute_query(query,database_=\"neo4j\")\n",
        "a\n",
        "\n",
        "  query =f\"\"\"MATCH (a:Role {{role: \"{originrole}\",r_id:\"{ogt}\"}}), return a\"\"\"\n",
        "        optional MATCH (a)-[relationship1:time]->(x)\n",
        "\n"
      ],
      "metadata": {
        "colab": {
          "base_uri": "https://localhost:8080/"
        },
        "id": "IPjAI0nyfVCL",
        "outputId": "aceac4e8-a12e-4fab-a020-0ce133f5736d"
      },
      "execution_count": null,
      "outputs": [
        {
          "output_type": "execute_result",
          "data": {
            "text/plain": [
              "[]"
            ]
          },
          "metadata": {},
          "execution_count": 26
        }
      ]
    },
    {
      "cell_type": "code",
      "source": [
        "def match_dest_role(destrole,dgt):\n",
        "  # originrole=str(df['originRole'][0])\n",
        "  # ogt = str(df['ogt'][0])\n",
        "  query =f\"\"\"MATCH (a:Role {{role: \"{destrole}\",r_id:\"{dgt}\"}}) return a\"\"\"\n",
        "\n",
        "\n",
        "\n",
        "  a,b,c = driver.execute_query(query,database_=\"neo4j\",)\n",
        "  if len(a)>0:\n",
        "    return True\n",
        "  else:\n",
        "    return False\n"
      ],
      "metadata": {
        "id": "X9Cr8EDVaTT4"
      },
      "execution_count": null,
      "outputs": []
    },
    {
      "cell_type": "code",
      "source": [
        "def match_1(dtid):\n",
        "  # dtid = \"0024000E\"\n",
        "  query = f\"\"\"\n",
        "  MATCH (x:Packet) WHERE x.pid1 = \"{dtid}\" OR x.pid2 = \"{dtid}\" return x\n",
        "  \"\"\"\n",
        "  a,b,c = driver.execute_query(query,database_=\"neo4j\",)\n",
        "  if len(a)>0:\n",
        "    return(a[0].data())\n",
        "  else:\n",
        "    return False\n",
        "\n"
      ],
      "metadata": {
        "id": "dPQ8IFyyJKnp"
      },
      "execution_count": null,
      "outputs": []
    },
    {
      "cell_type": "code",
      "source": [
        "def check_if_otid_exists(res,otid):\n",
        "  for i in res:\n",
        "    res['x'][i] == otid\n",
        "    return True\n",
        "  return False\n"
      ],
      "metadata": {
        "id": "gg9NwFOpNJ6s"
      },
      "execution_count": null,
      "outputs": []
    },
    {
      "cell_type": "code",
      "source": [
        "#find packet base on otid\n",
        "def find_packet_base_on_otid(packet_id,otid):\n",
        "  # otid = \"18056\"\n",
        "  # packet_id = 557\n",
        "  query = f\"\"\"\n",
        "  MATCH (n) WHERE ID(n) = {packet_id} AND (n.pid1 = \"{otid}\" OR n.pid2 = \"{otid}\") RETURN n \"\"\"\n",
        "  a,b,c = driver.execute_query(query,database_=\"neo4j\",)\n",
        "  if len(a)>0:\n",
        "    return True\n",
        "  else:\n",
        "    return False"
      ],
      "metadata": {
        "id": "LwERSecCe_75"
      },
      "execution_count": null,
      "outputs": []
    },
    {
      "cell_type": "code",
      "source": [
        "def find_packet_base_on_dtid(dtid):\n",
        "  # dtid = \"0024000E\"\n",
        "  query = f\"\"\"\n",
        "  MATCH (x:Packet) WHERE x.pid1 = \"{dtid}\" OR x.pid2 = \"{dtid}\" return ID(x)\n",
        "  \"\"\"\n",
        "  a,b,c = driver.execute_query(query,database_=\"neo4j\",)\n",
        "  if len(a)>0:\n",
        "    return(a[0].data())\n",
        "  else:\n",
        "    return False\n",
        "\n"
      ],
      "metadata": {
        "id": "4loD5qmOXoTW"
      },
      "execution_count": null,
      "outputs": []
    },
    {
      "cell_type": "code",
      "source": [
        "def  relation_existence_orig_packet(originrole,ogt,packet_id):\n",
        "  query = \"\"\"MATCH (a), (b) WHERE a.role = $role AND a.r_id=$gtid AND ID(b) = $id1 RETURN exists((a)-[]-(b))\"\"\"\n",
        "  result = driver.execute_query(query,role= str(originrole) , gtid =str(ogt), id1=packet_id)\n",
        "  if len(result[0]>0):\n",
        "    return True\n",
        "  else:\n",
        "    return False\n",
        "\n",
        "\n"
      ],
      "metadata": {
        "id": "67X2xvLXRrFr"
      },
      "execution_count": null,
      "outputs": []
    },
    {
      "cell_type": "code",
      "source": [
        "def  relation_existence_dest_packet(destrole,dgt,packet_id):\n",
        "  query = \"\"\"MATCH (a), (b) WHERE a.role = $role AND a.r_id=$gtid AND ID(b) = $id1 RETURN exists((a)-[]-(b))\"\"\"\n",
        "  result = driver.execute_query(query,role= str(destrole) , gtid =str(dgt), id1=packet_id)\n",
        "  if len(result[0]>0):\n",
        "    return True\n",
        "  else:\n",
        "    return False"
      ],
      "metadata": {
        "id": "L-KMZGWT84IR"
      },
      "execution_count": null,
      "outputs": []
    },
    {
      "cell_type": "code",
      "source": [
        "def check_count_of_time_relation_pct_role(originrole,ogt,packet_id):\n",
        "  # originrole = \"VLR\"\n",
        "  # ogt = \"25671555595\"\n",
        "  # packet_id = 476\n",
        "  query = \"\"\"\n",
        "  MATCH (p:Role)-[r:time]->(m:Packet)\n",
        "  WHERE p.role = $role AND p.r_id=$gtid AND ID(m) = $id1\n",
        "  RETURN properties(r) AS rel_props\n",
        "  \"\"\"\n",
        "  result = driver.execute_query(query,role= str(originrole) , gtid =str(ogt), id1=packet_id)\n",
        "  if len(result[0])>0:\n",
        "    count_of_times = len(result[0][0].data()['rel_props'])\n",
        "    return(count_of_times)\n",
        "  else:\n",
        "    return 0\n",
        "\n",
        "\n",
        "\n"
      ],
      "metadata": {
        "id": "WGgXzMCh-d8q"
      },
      "execution_count": null,
      "outputs": []
    },
    {
      "cell_type": "code",
      "source": [
        "def set_new_prop_on_rel (originrole,ogt,packet_id,new_prop,prop_value):\n",
        "  # originrole = \"VLR\"\n",
        "  # ogt = \"25671555595\"\n",
        "  # packet_id = 476\n",
        "  # new_prop = \"time2\"\n",
        "  # prop_value = \"tst\"\n",
        "\n",
        "  query = \"\"\"\n",
        "  MATCH (p:Role)-[r:time]->(m:Packet)\n",
        "  WHERE p.role = $role AND p.r_id=$gtid AND ID(m) = $id1\n",
        "  WITH r, $prop_name AS prop_name, $prop_value AS prop_value\n",
        "  SET r = apoc.map.setKey(properties(r), prop_name, prop_value)\n",
        "  RETURN r\n",
        "  \"\"\"\n",
        "  params = {\"role\": str(originrole), \"gtid\": str(ogt), \"id1\":packet_id ,\"prop_name\": new_prop, \"prop_value\": prop_value}\n",
        "  results = driver.execute_query(query, **params)\n",
        "\n"
      ],
      "metadata": {
        "id": "pBWd_WKJblVL"
      },
      "execution_count": null,
      "outputs": []
    },
    {
      "cell_type": "code",
      "source": [
        "# run the query and get the result\n",
        "def check_count_of_pid_pct(packet_id):\n",
        "  # packet_id = 476\n",
        "\n",
        "  query = \"\"\" MATCH (n:Packet) WHERE ID(n) = $id1 RETURN properties(n) AS property_count \"\"\"\n",
        "\n",
        "  result = driver.execute_query(query,id1=packet_id)\n",
        "  if len(result[0])>0:\n",
        "      count_of_pids = len(result[0][0].data()['property_count'])\n",
        "      return(count_of_pids)\n",
        "  else:\n",
        "      return 0\n"
      ],
      "metadata": {
        "id": "rBBziNSm2E1s"
      },
      "execution_count": null,
      "outputs": []
    },
    {
      "cell_type": "code",
      "source": [
        "def set_new_pid_node(new_prop,packet_id,prop_value):\n",
        "\n",
        "  # prop_value=\"123\"\n",
        "  # new_prop = \"pid2\"\n",
        "  # packet_id = 476\n",
        "  # prop_value = str(df['otid'][1])\n",
        "  # run the query and get the result\n",
        "  # result = session.run(\"MATCH (n) WHERE id(n) = 123 SET n[$variable] = $value RETURN n\", params)\n",
        "  query = \"\"\"MATCH (n:Packet) WHERE ID(n) = $id1 WITH n, apoc.map.setKey(properties(n), $variable, $value) AS newProps SET n = newProps RETURN n\"\"\"\n",
        "  params = {\"id1\": packet_id ,\"variable\": new_prop, \"value\": prop_value}\n",
        "  results = driver.execute_query(query, **params)\n",
        "\n",
        "\n"
      ],
      "metadata": {
        "id": "rlt9HUqd-APM"
      },
      "execution_count": null,
      "outputs": []
    },
    {
      "cell_type": "code",
      "source": [
        "check_count_of_pid_pct(476)"
      ],
      "metadata": {
        "colab": {
          "base_uri": "https://localhost:8080/"
        },
        "id": "vipWtMGN5T1z",
        "outputId": "dec113e3-9ad7-49c9-cce2-55ce81051f7a"
      },
      "execution_count": null,
      "outputs": [
        {
          "output_type": "execute_result",
          "data": {
            "text/plain": [
              "1"
            ]
          },
          "metadata": {},
          "execution_count": 47
        }
      ]
    },
    {
      "cell_type": "code",
      "source": [
        "cnt= 0\n",
        "for ind in df.index:\n",
        "  if not (df.isnull().iloc[ind,6]) and not (df.isnull().iloc[ind,7]):\n",
        "    cnt=cnt+1"
      ],
      "metadata": {
        "id": "YT0FchDPQw72"
      },
      "execution_count": null,
      "outputs": []
    },
    {
      "cell_type": "code",
      "source": [
        "cnt"
      ],
      "metadata": {
        "colab": {
          "base_uri": "https://localhost:8080/"
        },
        "id": "teIk7KrEQ5IB",
        "outputId": "cd62a446-7437-412b-d143-40fc28325f02"
      },
      "execution_count": null,
      "outputs": [
        {
          "output_type": "execute_result",
          "data": {
            "text/plain": [
              "506"
            ]
          },
          "metadata": {},
          "execution_count": 25
        }
      ]
    },
    {
      "cell_type": "code",
      "execution_count": null,
      "metadata": {
        "id": "gHWAIG7i1BAc"
      },
      "outputs": [],
      "source": [
        "lst = []\n",
        "for ind in df.index:\n",
        "\n",
        "  try:\n",
        "\n",
        "    if not (df.isnull().iloc[ind,6]) and not (df.isnull().iloc[ind,7]):\n",
        "       dtid = str(df['dtid'][ind])\n",
        "       otid = str(df['otid'][ind])\n",
        "       originrole=df['originRole'][ind]\n",
        "       ogt = df['ogt'][ind]\n",
        "       destrole = df['destRole'][ind]\n",
        "       dgt = df['dgt'][ind]\n",
        "       res = find_packet_base_on_dtid(dtid)\n",
        "       if res!=False:\n",
        "        packet_id = res['ID(x)']\n",
        "        otid_existence = find_packet_base_on_otid(packet_id,otid)\n",
        "        if otid_existence==True:\n",
        "          print(ind)\n",
        "          org_rel_existence = relation_existence_orig_packet(originrole,ogt,packet_id)\n",
        "          dest_rel_existence = relation_existence_dest_packet(destrole,dgt,packet_id)\n",
        "          if org_rel_existence==True and dest_rel_existence==True:\n",
        "            count_of_times = check_count_of_time_relation_pct_role(originrole,ogt,packet_id)\n",
        "            new_prop = \"time\"+ str(count_of_times+1)\n",
        "            prop_value = str(df['timestamp'][ind])\n",
        "            set_new_prop_on_rel (originrole,ogt,packet_id,new_prop,prop_value)\n",
        "\n",
        "          else:\n",
        "            pass\n",
        "\n",
        "\n",
        "        #when otid doesnt exist on matched packet\n",
        "        else:\n",
        "          count_of_pids = check_count_of_pid_pct(packet_id)\n",
        "          new_prop = \"pid\" + str(count_of_pids+1)\n",
        "          prop_value = str(df['otid'][ind])\n",
        "          set_new_pid_node(new_prop,packet_id,prop_value)\n",
        "          print(ind)\n",
        "          org_rel_existence = relation_existence_orig_packet(originrole,ogt,packet_id)\n",
        "          dest_rel_existence = relation_existence_dest_packet(destrole,dgt,packet_id)\n",
        "          if org_rel_existence==True and dest_rel_existence==True:\n",
        "            count_of_times = check_count_of_time_relation_pct_role(originrole,ogt,packet_id)\n",
        "            new_prop = \"time\"+ str(count_of_times+1)\n",
        "            prop_value = str(df['timestamp'][ind])\n",
        "            set_new_prop_on_rel (originrole,ogt,packet_id,new_prop,prop_value)\n",
        "\n",
        "\n",
        "\n",
        "\n",
        "\n",
        "\n",
        "\n",
        "\n",
        "\n",
        "\n",
        "\n",
        "\n",
        "\n",
        "       #when dtid doesnt match to any packet\n",
        "       else:\n",
        "        pass\n",
        "\n",
        "  except:\n",
        "    lst.append(ind)\n",
        "\n",
        "\n",
        "\n",
        "\n",
        "\n",
        "\n",
        "\n",
        "\n",
        "\n"
      ]
    },
    {
      "cell_type": "code",
      "source": [
        "len(lst)"
      ],
      "metadata": {
        "colab": {
          "base_uri": "https://localhost:8080/"
        },
        "id": "NTxG6JpCQWCq",
        "outputId": "eb1084bd-1679-4fc0-95d9-700fc0b05d6c"
      },
      "execution_count": null,
      "outputs": [
        {
          "output_type": "execute_result",
          "data": {
            "text/plain": [
              "98"
            ]
          },
          "metadata": {},
          "execution_count": 22
        }
      ]
    },
    {
      "cell_type": "code",
      "source": [
        "lst"
      ],
      "metadata": {
        "id": "dblK1dwDTY3U"
      },
      "execution_count": null,
      "outputs": []
    },
    {
      "cell_type": "code",
      "source": [
        "display(df.iloc[13])\n"
      ],
      "metadata": {
        "colab": {
          "base_uri": "https://localhost:8080/",
          "height": 191
        },
        "id": "1sgDmMJuOcWF",
        "outputId": "9db1463e-1bd8-4c14-da8b-cece7901bf68"
      },
      "execution_count": null,
      "outputs": [
        {
          "output_type": "display_data",
          "data": {
            "text/plain": [
              "timestamp       November 28th 2023  11:50:30.000\n",
              "ogt                                  25671555596\n",
              "dgt                                   9891155077\n",
              "originRole                                   MSC\n",
              "destRole                                     MSC\n",
              "tcapType                                continue\n",
              "otid                                    001604FD\n",
              "dtid                                     3304614\n",
              "index_column                                  13\n",
              "Name: 13, dtype: object"
            ]
          },
          "metadata": {}
        }
      ]
    },
    {
      "cell_type": "code",
      "source": [
        "df.head()"
      ],
      "metadata": {
        "colab": {
          "base_uri": "https://localhost:8080/",
          "height": 399
        },
        "id": "ws2B8iG7zLRq",
        "outputId": "73d33b45-5fb0-4dc5-c7d2-6b51c7a05aab"
      },
      "execution_count": null,
      "outputs": [
        {
          "output_type": "execute_result",
          "data": {
            "text/plain": [
              "                          timestamp          ogt         dgt originRole  \\\n",
              "0  November 28th 2023  11:55:28.000  25671555595   989115560        VLR   \n",
              "1  November 28th 2023  11:55:27.000  25671555595  9891155126        VLR   \n",
              "2  November 28th 2023  11:55:26.000  25671555595   989115562        VLR   \n",
              "3  November 28th 2023  11:55:25.000  25671555595   989115562        VLR   \n",
              "4  November 28th 2023  11:55:24.000  25671555595   989115562        VLR   \n",
              "\n",
              "  destRole  tcapType      otid      dtid  index_column  \n",
              "0      HLR       end       NaN  02C87E14             0  \n",
              "1   gsmSCF     begin  0018038C       NaN             1  \n",
              "2      HLR  continue    180370  01B013D7             2  \n",
              "3      HLR  continue    180370  01B013D7             3  \n",
              "4      HLR  continue    180370  01B013D7             4  "
            ],
            "text/html": [
              "\n",
              "  <div id=\"df-d3c0e4b0-e914-4d4f-b227-a802327e08b4\" class=\"colab-df-container\">\n",
              "    <div>\n",
              "<style scoped>\n",
              "    .dataframe tbody tr th:only-of-type {\n",
              "        vertical-align: middle;\n",
              "    }\n",
              "\n",
              "    .dataframe tbody tr th {\n",
              "        vertical-align: top;\n",
              "    }\n",
              "\n",
              "    .dataframe thead th {\n",
              "        text-align: right;\n",
              "    }\n",
              "</style>\n",
              "<table border=\"1\" class=\"dataframe\">\n",
              "  <thead>\n",
              "    <tr style=\"text-align: right;\">\n",
              "      <th></th>\n",
              "      <th>timestamp</th>\n",
              "      <th>ogt</th>\n",
              "      <th>dgt</th>\n",
              "      <th>originRole</th>\n",
              "      <th>destRole</th>\n",
              "      <th>tcapType</th>\n",
              "      <th>otid</th>\n",
              "      <th>dtid</th>\n",
              "      <th>index_column</th>\n",
              "    </tr>\n",
              "  </thead>\n",
              "  <tbody>\n",
              "    <tr>\n",
              "      <th>0</th>\n",
              "      <td>November 28th 2023  11:55:28.000</td>\n",
              "      <td>25671555595</td>\n",
              "      <td>989115560</td>\n",
              "      <td>VLR</td>\n",
              "      <td>HLR</td>\n",
              "      <td>end</td>\n",
              "      <td>NaN</td>\n",
              "      <td>02C87E14</td>\n",
              "      <td>0</td>\n",
              "    </tr>\n",
              "    <tr>\n",
              "      <th>1</th>\n",
              "      <td>November 28th 2023  11:55:27.000</td>\n",
              "      <td>25671555595</td>\n",
              "      <td>9891155126</td>\n",
              "      <td>VLR</td>\n",
              "      <td>gsmSCF</td>\n",
              "      <td>begin</td>\n",
              "      <td>0018038C</td>\n",
              "      <td>NaN</td>\n",
              "      <td>1</td>\n",
              "    </tr>\n",
              "    <tr>\n",
              "      <th>2</th>\n",
              "      <td>November 28th 2023  11:55:26.000</td>\n",
              "      <td>25671555595</td>\n",
              "      <td>989115562</td>\n",
              "      <td>VLR</td>\n",
              "      <td>HLR</td>\n",
              "      <td>continue</td>\n",
              "      <td>180370</td>\n",
              "      <td>01B013D7</td>\n",
              "      <td>2</td>\n",
              "    </tr>\n",
              "    <tr>\n",
              "      <th>3</th>\n",
              "      <td>November 28th 2023  11:55:25.000</td>\n",
              "      <td>25671555595</td>\n",
              "      <td>989115562</td>\n",
              "      <td>VLR</td>\n",
              "      <td>HLR</td>\n",
              "      <td>continue</td>\n",
              "      <td>180370</td>\n",
              "      <td>01B013D7</td>\n",
              "      <td>3</td>\n",
              "    </tr>\n",
              "    <tr>\n",
              "      <th>4</th>\n",
              "      <td>November 28th 2023  11:55:24.000</td>\n",
              "      <td>25671555595</td>\n",
              "      <td>989115562</td>\n",
              "      <td>VLR</td>\n",
              "      <td>HLR</td>\n",
              "      <td>continue</td>\n",
              "      <td>180370</td>\n",
              "      <td>01B013D7</td>\n",
              "      <td>4</td>\n",
              "    </tr>\n",
              "  </tbody>\n",
              "</table>\n",
              "</div>\n",
              "    <div class=\"colab-df-buttons\">\n",
              "\n",
              "  <div class=\"colab-df-container\">\n",
              "    <button class=\"colab-df-convert\" onclick=\"convertToInteractive('df-d3c0e4b0-e914-4d4f-b227-a802327e08b4')\"\n",
              "            title=\"Convert this dataframe to an interactive table.\"\n",
              "            style=\"display:none;\">\n",
              "\n",
              "  <svg xmlns=\"http://www.w3.org/2000/svg\" height=\"24px\" viewBox=\"0 -960 960 960\">\n",
              "    <path d=\"M120-120v-720h720v720H120Zm60-500h600v-160H180v160Zm220 220h160v-160H400v160Zm0 220h160v-160H400v160ZM180-400h160v-160H180v160Zm440 0h160v-160H620v160ZM180-180h160v-160H180v160Zm440 0h160v-160H620v160Z\"/>\n",
              "  </svg>\n",
              "    </button>\n",
              "\n",
              "  <style>\n",
              "    .colab-df-container {\n",
              "      display:flex;\n",
              "      gap: 12px;\n",
              "    }\n",
              "\n",
              "    .colab-df-convert {\n",
              "      background-color: #E8F0FE;\n",
              "      border: none;\n",
              "      border-radius: 50%;\n",
              "      cursor: pointer;\n",
              "      display: none;\n",
              "      fill: #1967D2;\n",
              "      height: 32px;\n",
              "      padding: 0 0 0 0;\n",
              "      width: 32px;\n",
              "    }\n",
              "\n",
              "    .colab-df-convert:hover {\n",
              "      background-color: #E2EBFA;\n",
              "      box-shadow: 0px 1px 2px rgba(60, 64, 67, 0.3), 0px 1px 3px 1px rgba(60, 64, 67, 0.15);\n",
              "      fill: #174EA6;\n",
              "    }\n",
              "\n",
              "    .colab-df-buttons div {\n",
              "      margin-bottom: 4px;\n",
              "    }\n",
              "\n",
              "    [theme=dark] .colab-df-convert {\n",
              "      background-color: #3B4455;\n",
              "      fill: #D2E3FC;\n",
              "    }\n",
              "\n",
              "    [theme=dark] .colab-df-convert:hover {\n",
              "      background-color: #434B5C;\n",
              "      box-shadow: 0px 1px 3px 1px rgba(0, 0, 0, 0.15);\n",
              "      filter: drop-shadow(0px 1px 2px rgba(0, 0, 0, 0.3));\n",
              "      fill: #FFFFFF;\n",
              "    }\n",
              "  </style>\n",
              "\n",
              "    <script>\n",
              "      const buttonEl =\n",
              "        document.querySelector('#df-d3c0e4b0-e914-4d4f-b227-a802327e08b4 button.colab-df-convert');\n",
              "      buttonEl.style.display =\n",
              "        google.colab.kernel.accessAllowed ? 'block' : 'none';\n",
              "\n",
              "      async function convertToInteractive(key) {\n",
              "        const element = document.querySelector('#df-d3c0e4b0-e914-4d4f-b227-a802327e08b4');\n",
              "        const dataTable =\n",
              "          await google.colab.kernel.invokeFunction('convertToInteractive',\n",
              "                                                    [key], {});\n",
              "        if (!dataTable) return;\n",
              "\n",
              "        const docLinkHtml = 'Like what you see? Visit the ' +\n",
              "          '<a target=\"_blank\" href=https://colab.research.google.com/notebooks/data_table.ipynb>data table notebook</a>'\n",
              "          + ' to learn more about interactive tables.';\n",
              "        element.innerHTML = '';\n",
              "        dataTable['output_type'] = 'display_data';\n",
              "        await google.colab.output.renderOutput(dataTable, element);\n",
              "        const docLink = document.createElement('div');\n",
              "        docLink.innerHTML = docLinkHtml;\n",
              "        element.appendChild(docLink);\n",
              "      }\n",
              "    </script>\n",
              "  </div>\n",
              "\n",
              "\n",
              "<div id=\"df-f077500c-dcec-4f6f-a699-1c1816f2c001\">\n",
              "  <button class=\"colab-df-quickchart\" onclick=\"quickchart('df-f077500c-dcec-4f6f-a699-1c1816f2c001')\"\n",
              "            title=\"Suggest charts\"\n",
              "            style=\"display:none;\">\n",
              "\n",
              "<svg xmlns=\"http://www.w3.org/2000/svg\" height=\"24px\"viewBox=\"0 0 24 24\"\n",
              "     width=\"24px\">\n",
              "    <g>\n",
              "        <path d=\"M19 3H5c-1.1 0-2 .9-2 2v14c0 1.1.9 2 2 2h14c1.1 0 2-.9 2-2V5c0-1.1-.9-2-2-2zM9 17H7v-7h2v7zm4 0h-2V7h2v10zm4 0h-2v-4h2v4z\"/>\n",
              "    </g>\n",
              "</svg>\n",
              "  </button>\n",
              "\n",
              "<style>\n",
              "  .colab-df-quickchart {\n",
              "      --bg-color: #E8F0FE;\n",
              "      --fill-color: #1967D2;\n",
              "      --hover-bg-color: #E2EBFA;\n",
              "      --hover-fill-color: #174EA6;\n",
              "      --disabled-fill-color: #AAA;\n",
              "      --disabled-bg-color: #DDD;\n",
              "  }\n",
              "\n",
              "  [theme=dark] .colab-df-quickchart {\n",
              "      --bg-color: #3B4455;\n",
              "      --fill-color: #D2E3FC;\n",
              "      --hover-bg-color: #434B5C;\n",
              "      --hover-fill-color: #FFFFFF;\n",
              "      --disabled-bg-color: #3B4455;\n",
              "      --disabled-fill-color: #666;\n",
              "  }\n",
              "\n",
              "  .colab-df-quickchart {\n",
              "    background-color: var(--bg-color);\n",
              "    border: none;\n",
              "    border-radius: 50%;\n",
              "    cursor: pointer;\n",
              "    display: none;\n",
              "    fill: var(--fill-color);\n",
              "    height: 32px;\n",
              "    padding: 0;\n",
              "    width: 32px;\n",
              "  }\n",
              "\n",
              "  .colab-df-quickchart:hover {\n",
              "    background-color: var(--hover-bg-color);\n",
              "    box-shadow: 0 1px 2px rgba(60, 64, 67, 0.3), 0 1px 3px 1px rgba(60, 64, 67, 0.15);\n",
              "    fill: var(--button-hover-fill-color);\n",
              "  }\n",
              "\n",
              "  .colab-df-quickchart-complete:disabled,\n",
              "  .colab-df-quickchart-complete:disabled:hover {\n",
              "    background-color: var(--disabled-bg-color);\n",
              "    fill: var(--disabled-fill-color);\n",
              "    box-shadow: none;\n",
              "  }\n",
              "\n",
              "  .colab-df-spinner {\n",
              "    border: 2px solid var(--fill-color);\n",
              "    border-color: transparent;\n",
              "    border-bottom-color: var(--fill-color);\n",
              "    animation:\n",
              "      spin 1s steps(1) infinite;\n",
              "  }\n",
              "\n",
              "  @keyframes spin {\n",
              "    0% {\n",
              "      border-color: transparent;\n",
              "      border-bottom-color: var(--fill-color);\n",
              "      border-left-color: var(--fill-color);\n",
              "    }\n",
              "    20% {\n",
              "      border-color: transparent;\n",
              "      border-left-color: var(--fill-color);\n",
              "      border-top-color: var(--fill-color);\n",
              "    }\n",
              "    30% {\n",
              "      border-color: transparent;\n",
              "      border-left-color: var(--fill-color);\n",
              "      border-top-color: var(--fill-color);\n",
              "      border-right-color: var(--fill-color);\n",
              "    }\n",
              "    40% {\n",
              "      border-color: transparent;\n",
              "      border-right-color: var(--fill-color);\n",
              "      border-top-color: var(--fill-color);\n",
              "    }\n",
              "    60% {\n",
              "      border-color: transparent;\n",
              "      border-right-color: var(--fill-color);\n",
              "    }\n",
              "    80% {\n",
              "      border-color: transparent;\n",
              "      border-right-color: var(--fill-color);\n",
              "      border-bottom-color: var(--fill-color);\n",
              "    }\n",
              "    90% {\n",
              "      border-color: transparent;\n",
              "      border-bottom-color: var(--fill-color);\n",
              "    }\n",
              "  }\n",
              "</style>\n",
              "\n",
              "  <script>\n",
              "    async function quickchart(key) {\n",
              "      const quickchartButtonEl =\n",
              "        document.querySelector('#' + key + ' button');\n",
              "      quickchartButtonEl.disabled = true;  // To prevent multiple clicks.\n",
              "      quickchartButtonEl.classList.add('colab-df-spinner');\n",
              "      try {\n",
              "        const charts = await google.colab.kernel.invokeFunction(\n",
              "            'suggestCharts', [key], {});\n",
              "      } catch (error) {\n",
              "        console.error('Error during call to suggestCharts:', error);\n",
              "      }\n",
              "      quickchartButtonEl.classList.remove('colab-df-spinner');\n",
              "      quickchartButtonEl.classList.add('colab-df-quickchart-complete');\n",
              "    }\n",
              "    (() => {\n",
              "      let quickchartButtonEl =\n",
              "        document.querySelector('#df-f077500c-dcec-4f6f-a699-1c1816f2c001 button');\n",
              "      quickchartButtonEl.style.display =\n",
              "        google.colab.kernel.accessAllowed ? 'block' : 'none';\n",
              "    })();\n",
              "  </script>\n",
              "</div>\n",
              "    </div>\n",
              "  </div>\n"
            ]
          },
          "metadata": {},
          "execution_count": 34
        }
      ]
    },
    {
      "cell_type": "code",
      "source": [
        "df2 = df.loc[df['otid'] == \"0111E10B\"]"
      ],
      "metadata": {
        "id": "uKNGdCzoUgtD"
      },
      "execution_count": null,
      "outputs": []
    },
    {
      "cell_type": "code",
      "source": [
        "from google.colab import drive\n",
        "drive.mount('/content/drive')"
      ],
      "metadata": {
        "id": "ercEAPyX7iUD"
      },
      "execution_count": null,
      "outputs": []
    },
    {
      "cell_type": "code",
      "source": [
        "lst = []\n",
        "for ind in df2.index:\n",
        "\n",
        "\n",
        "\n",
        "    if not (df.isnull().iloc[ind,6]) and not (df.isnull().iloc[ind,7]):\n",
        "       dtid = str(df['dtid'][ind])\n",
        "       otid = str(df['otid'][ind])\n",
        "       originrole=df['originRole'][ind]\n",
        "       ogt = df['ogt'][ind]\n",
        "       destrole = df['destRole'][ind]\n",
        "       dgt = df['dgt'][ind]\n",
        "       res = find_packet_base_on_dtid(dtid)\n",
        "       if res!=False:\n",
        "        packet_id = res['ID(x)']\n",
        "        otid_existence = find_packet_base_on_otid(packet_id,otid)\n",
        "        if otid_existence==True:\n",
        "          print(ind)\n",
        "          org_rel_existence = relation_existence_orig_packet(originrole,ogt,packet_id)\n",
        "          dest_rel_existence = relation_existence_dest_packet(destrole,dgt,packet_id)\n",
        "          if org_rel_existence==True and dest_rel_existence==True:\n",
        "            count_of_times = check_count_of_time_relation_pct_role(originrole,ogt,packet_id)\n",
        "            new_prop = \"time\"+ str(count_of_times+1)\n",
        "            prop_value = str(df['timestamp'][ind])\n",
        "            set_new_prop_on_rel (originrole,ogt,packet_id,new_prop,prop_value)\n",
        "\n",
        "          else:\n",
        "            pass\n",
        "\n",
        "\n",
        "        #when otid doesnt exist on matched packet\n",
        "        else:\n",
        "          print(\"otid not exist should be added \")\n",
        "          count_of_pids = check_count_of_pid_pct(packet_id)\n",
        "          new_prop = \"pid\" + str(count_of_pids+1)\n",
        "          prop_value = str(df['otid'][ind])\n",
        "          set_new_pid_node(new_prop,packet_id,prop_value)\n",
        "          print(ind)\n",
        "          print(originrole)\n",
        "          print(packet_id)\n",
        "          print(ogt)\n",
        "          org_rel_existence = relation_existence_orig_packet(originrole,ogt,packet_id)\n",
        "          dest_rel_existence = relation_existence_dest_packet(destrole,dgt,packet_id)\n",
        "          if org_rel_existence==True and dest_rel_existence==True:\n",
        "            print(\"rels exist\")\n",
        "            count_of_times = check_count_of_time_relation_pct_role(originrole,ogt,packet_id)\n",
        "            new_prop = \"time\"+ str(count_of_times+1)\n",
        "            prop_value = str(df['timestamp'][ind])\n",
        "            set_new_prop_on_rel (originrole,ogt,packet_id,new_prop,prop_value)\n",
        "        break\n",
        "\n",
        "\n",
        "\n",
        "\n",
        "\n",
        "\n",
        "\n",
        "\n",
        "\n",
        "\n",
        "\n",
        "\n",
        "\n",
        "       #when dtid doesnt match to any packet\n",
        "       else:\n",
        "        pass\n",
        "\n",
        "\n",
        "    lst.append(ind)\n",
        "\n",
        "\n",
        "\n",
        "\n",
        "\n",
        "\n",
        "\n",
        "\n",
        "\n"
      ],
      "metadata": {
        "id": "KH_CXH3uU9yb"
      },
      "execution_count": null,
      "outputs": []
    },
    {
      "cell_type": "code",
      "source": [
        "def  relation_existence_orig_packet_t(originrole,ogt,packet_id):\n",
        "  query = \"\"\"MATCH (a), (b) WHERE a.role = $role AND a.r_id=$gtid AND ID(b) = $id1 RETURN exists((a)-[]-(b))\"\"\"\n",
        "  result = driver.execute_query(query,role= str(originrole) , gtid =str(ogt), id1=packet_id)\n",
        "  return result"
      ],
      "metadata": {
        "id": "8jA8zKPfWryy"
      },
      "execution_count": null,
      "outputs": []
    },
    {
      "cell_type": "code",
      "source": [
        "relation_existence_orig_packet_t(originrole,ogt,packet_id)"
      ],
      "metadata": {
        "colab": {
          "base_uri": "https://localhost:8080/"
        },
        "id": "sJU0FVfaWvwB",
        "outputId": "31ec16aa-6b1a-42aa-b4d5-b6093eb9a118"
      },
      "execution_count": null,
      "outputs": [
        {
          "output_type": "execute_result",
          "data": {
            "text/plain": [
              "EagerResult(records=[<Record exists((a)-[]-(b))=False>], summary=<neo4j._work.summary.ResultSummary object at 0x7f96b384f0d0>, keys=['exists((a)-[]-(b))'])"
            ]
          },
          "metadata": {},
          "execution_count": 37
        }
      ]
    },
    {
      "cell_type": "code",
      "source": [
        "df2"
      ],
      "metadata": {
        "id": "vnlQ-ppmXQgc"
      },
      "execution_count": null,
      "outputs": []
    }
  ],
  "metadata": {
    "colab": {
      "provenance": [],
      "mount_file_id": "17iR_qrHnCuCFi7qGF7NRWTawDHAhTM72",
      "authorship_tag": "ABX9TyPmpvF0ZiTRLiB4+rN9S5z2",
      "include_colab_link": true
    },
    "kernelspec": {
      "display_name": "Python 3",
      "name": "python3"
    },
    "language_info": {
      "name": "python"
    }
  },
  "nbformat": 4,
  "nbformat_minor": 0
}