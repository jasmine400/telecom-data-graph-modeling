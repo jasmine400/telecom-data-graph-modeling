{
  "cells": [
    {
      "cell_type": "markdown",
      "metadata": {
        "id": "view-in-github",
        "colab_type": "text"
      },
      "source": [
        "<a href=\"https://colab.research.google.com/github/jasmine400/telecom-data-graph-modeling/blob/main/query_neo4j.ipynb\" target=\"_parent\"><img src=\"https://colab.research.google.com/assets/colab-badge.svg\" alt=\"Open In Colab\"/></a>"
      ]
    },
    {
      "cell_type": "code",
      "execution_count": null,
      "metadata": {
        "colab": {
          "base_uri": "https://localhost:8080/"
        },
        "id": "p8YHnwwfkk1c",
        "outputId": "ac595903-ff3b-489d-e582-bd0e800040f2"
      },
      "outputs": [
        {
          "output_type": "stream",
          "name": "stdout",
          "text": [
            "Collecting neo4j\n",
            "  Downloading neo4j-5.15.0.tar.gz (196 kB)\n",
            "\u001b[?25l     \u001b[90m━━━━━━━━━━━━━━━━━━━━━━━━━━━━━━━━━━━━━━━━\u001b[0m \u001b[32m0.0/196.5 kB\u001b[0m \u001b[31m?\u001b[0m eta \u001b[36m-:--:--\u001b[0m\r\u001b[2K     \u001b[90m━━━━━━━━━━━━━━━━━━━━━━━━━━━━━━━━━━━━━━━━\u001b[0m \u001b[32m196.5/196.5 kB\u001b[0m \u001b[31m7.4 MB/s\u001b[0m eta \u001b[36m0:00:00\u001b[0m\n",
            "\u001b[?25h  Installing build dependencies ... \u001b[?25l\u001b[?25hdone\n",
            "  Getting requirements to build wheel ... \u001b[?25l\u001b[?25hdone\n",
            "  Installing backend dependencies ... \u001b[?25l\u001b[?25hdone\n",
            "  Preparing metadata (pyproject.toml) ... \u001b[?25l\u001b[?25hdone\n",
            "Requirement already satisfied: pytz in /usr/local/lib/python3.10/dist-packages (from neo4j) (2023.3.post1)\n",
            "Building wheels for collected packages: neo4j\n",
            "  Building wheel for neo4j (pyproject.toml) ... \u001b[?25l\u001b[?25hdone\n",
            "  Created wheel for neo4j: filename=neo4j-5.15.0-py3-none-any.whl size=272484 sha256=f57a28d7ea32e643813d3c55769d950ac76d15236242934694e5989a6a895ef8\n",
            "  Stored in directory: /root/.cache/pip/wheels/d5/08/10/6371dbdeec2efd7782f559b21c32bb6b4192ae0216ec5e39c5\n",
            "Successfully built neo4j\n",
            "Installing collected packages: neo4j\n",
            "Successfully installed neo4j-5.15.0\n"
          ]
        }
      ],
      "source": [
        "!pip install neo4j"
      ]
    },
    {
      "cell_type": "code",
      "execution_count": null,
      "metadata": {
        "id": "yV0CYdfzmTJH"
      },
      "outputs": [],
      "source": [
        "from neo4j import GraphDatabase\n",
        "# Replace with the actual URI, username and password\n",
        "AURA_CONNECTION_URI = \"\"\n",
        "AURA_USERNAME = \"\"\n",
        "AURA_PASSWORD =\"\"\n",
        "\n",
        "# Driver instantiation\n",
        "driver = GraphDatabase.driver(\n",
        "    AURA_CONNECTION_URI,\n",
        "    auth=(AURA_USERNAME, AURA_PASSWORD)\n",
        ")"
      ]
    },
    {
      "cell_type": "code",
      "execution_count": null,
      "metadata": {
        "colab": {
          "base_uri": "https://localhost:8080/"
        },
        "id": "C9bcQTppyRGS",
        "outputId": "1990105d-d626-4b8b-d14a-9ff004a8ba20"
      },
      "outputs": [
        {
          "output_type": "stream",
          "name": "stdout",
          "text": [
            "/content/drive/MyDrive/telecom\n"
          ]
        }
      ],
      "source": [
        "%cd drive/MyDrive/telecom"
      ]
    },
    {
      "cell_type": "code",
      "execution_count": null,
      "metadata": {
        "id": "CjVEYeCyydWa"
      },
      "outputs": [],
      "source": [
        "import pandas as pd\n",
        "\n",
        "df = pd.read_csv('file9.csv')"
      ]
    },
    {
      "cell_type": "code",
      "execution_count": null,
      "metadata": {
        "id": "X9P19kK-YMuW"
      },
      "outputs": [],
      "source": [
        "df.head()"
      ]
    },
    {
      "cell_type": "code",
      "execution_count": null,
      "metadata": {
        "id": "5S8UTwBs0FCn"
      },
      "outputs": [],
      "source": [
        "import numpy as np"
      ]
    },
    {
      "cell_type": "code",
      "execution_count": null,
      "metadata": {
        "colab": {
          "base_uri": "https://localhost:8080/"
        },
        "id": "YTrVtfdpYqnt",
        "outputId": "34102ed8-950c-469d-a9a2-fc54a12686d9"
      },
      "outputs": [
        {
          "name": "stdout",
          "output_type": "stream",
          "text": [
            "<class 'float'>\n"
          ]
        },
        {
          "data": {
            "text/plain": [
              "False"
            ]
          },
          "execution_count": 14,
          "metadata": {},
          "output_type": "execute_result"
        }
      ],
      "source": [
        "print(type(df['otid'][0]))\n",
        "not (df.isnull().iloc[0,6])"
      ]
    },
    {
      "cell_type": "code",
      "execution_count": null,
      "metadata": {
        "id": "ZFNzAhAEfrAr"
      },
      "outputs": [],
      "source": [
        "import neo4j\n",
        "from pandas import DataFrame"
      ]
    },
    {
      "cell_type": "code",
      "execution_count": null,
      "metadata": {
        "colab": {
          "base_uri": "https://localhost:8080/"
        },
        "id": "4WCBgVK-kCC3",
        "outputId": "95312aee-d862-4e97-d02f-2abf19bb391d"
      },
      "outputs": [
        {
          "output_type": "stream",
          "name": "stdout",
          "text": [
            "0024000E\n"
          ]
        }
      ],
      "source": [
        "dtid = \"0024000E\"\n",
        "query = f\"\"\"\n",
        " MATCH (x:Packet) WHERE x.pid1 = \"{dtid}\" OR x.pid2 = \"{dtid}\" return x\n",
        "\"\"\"\n",
        "a,b,c = driver.execute_query(query,database_=\"neo4j\",)\n",
        "dic = a[0].data()\n",
        "for i in dic['x']:\n",
        "  print(dic['x'][i])\n"
      ]
    },
    {
      "cell_type": "code",
      "execution_count": null,
      "metadata": {
        "colab": {
          "base_uri": "https://localhost:8080/"
        },
        "id": "zYWoe1TKfN-d",
        "outputId": "c539bc9d-7311-4cfc-b97d-e5d46614cff6"
      },
      "outputs": [
        {
          "name": "stdout",
          "output_type": "stream",
          "text": [
            "      x\n",
            "0  None\n"
          ]
        }
      ],
      "source": [
        "# Define an optional match query\n",
        "\n",
        "query = f\"\"\"\n",
        "OPTIONAL MATCH (x:Packet) WHERE x.pid1 = \"{dtid}\" OR x.pid2 = \"{dtid}\" return x\n",
        "\"\"\"\n",
        "\n",
        "# Execute the query and get the result as a pandas DataFrame\n",
        "dataframe = driver.execute_query(\n",
        "    query,\n",
        "    database_=\"neo4j\",\n",
        "    result_transformer_=neo4j.Result.to_df\n",
        ")\n",
        "\n",
        "# Print the dataframe\n",
        "print(dataframe)"
      ]
    },
    {
      "cell_type": "code",
      "execution_count": null,
      "metadata": {
        "id": "7Etlf7o9ixwE"
      },
      "outputs": [],
      "source": [
        "def optional_match_query(dtid):\n",
        "  # Define an optional match query\n",
        "\n",
        "  query = f\"\"\"\n",
        "  OPTIONAL MATCH (x:Packet) WHERE x.pid1 = \"{dtid}\" OR x.pid2 = \"{dtid}\" return x\n",
        "  \"\"\"\n",
        "\n",
        "  # Execute the query and get the result as a pandas DataFrame\n",
        "  dataframe = driver.execute_query(\n",
        "      query,\n",
        "      database_=\"neo4j\",\n",
        "      result_transformer_=neo4j.Result.to_df\n",
        "  )\n",
        "\n",
        "  # Print the dataframe\n",
        "  print(dataframe)\n",
        "  res=dataframe.isnull().iloc[0,0]\n",
        "  return(res)"
      ]
    },
    {
      "cell_type": "code",
      "execution_count": null,
      "metadata": {
        "colab": {
          "base_uri": "https://localhost:8080/",
          "height": 80
        },
        "id": "n__gIg8agVFk",
        "outputId": "758453fa-24d7-4a7c-be72-243bdcc2d171"
      },
      "outputs": [
        {
          "data": {
            "text/html": [
              "\n",
              "  <div id=\"df-c1d3da47-1035-4068-a499-236ac59c8cfb\" class=\"colab-df-container\">\n",
              "    <div>\n",
              "<style scoped>\n",
              "    .dataframe tbody tr th:only-of-type {\n",
              "        vertical-align: middle;\n",
              "    }\n",
              "\n",
              "    .dataframe tbody tr th {\n",
              "        vertical-align: top;\n",
              "    }\n",
              "\n",
              "    .dataframe thead th {\n",
              "        text-align: right;\n",
              "    }\n",
              "</style>\n",
              "<table border=\"1\" class=\"dataframe\">\n",
              "  <thead>\n",
              "    <tr style=\"text-align: right;\">\n",
              "      <th></th>\n",
              "      <th>x</th>\n",
              "    </tr>\n",
              "  </thead>\n",
              "  <tbody>\n",
              "    <tr>\n",
              "      <th>0</th>\n",
              "      <td>(pid1)</td>\n",
              "    </tr>\n",
              "  </tbody>\n",
              "</table>\n",
              "</div>\n",
              "    <div class=\"colab-df-buttons\">\n",
              "\n",
              "  <div class=\"colab-df-container\">\n",
              "    <button class=\"colab-df-convert\" onclick=\"convertToInteractive('df-c1d3da47-1035-4068-a499-236ac59c8cfb')\"\n",
              "            title=\"Convert this dataframe to an interactive table.\"\n",
              "            style=\"display:none;\">\n",
              "\n",
              "  <svg xmlns=\"http://www.w3.org/2000/svg\" height=\"24px\" viewBox=\"0 -960 960 960\">\n",
              "    <path d=\"M120-120v-720h720v720H120Zm60-500h600v-160H180v160Zm220 220h160v-160H400v160Zm0 220h160v-160H400v160ZM180-400h160v-160H180v160Zm440 0h160v-160H620v160ZM180-180h160v-160H180v160Zm440 0h160v-160H620v160Z\"/>\n",
              "  </svg>\n",
              "    </button>\n",
              "\n",
              "  <style>\n",
              "    .colab-df-container {\n",
              "      display:flex;\n",
              "      gap: 12px;\n",
              "    }\n",
              "\n",
              "    .colab-df-convert {\n",
              "      background-color: #E8F0FE;\n",
              "      border: none;\n",
              "      border-radius: 50%;\n",
              "      cursor: pointer;\n",
              "      display: none;\n",
              "      fill: #1967D2;\n",
              "      height: 32px;\n",
              "      padding: 0 0 0 0;\n",
              "      width: 32px;\n",
              "    }\n",
              "\n",
              "    .colab-df-convert:hover {\n",
              "      background-color: #E2EBFA;\n",
              "      box-shadow: 0px 1px 2px rgba(60, 64, 67, 0.3), 0px 1px 3px 1px rgba(60, 64, 67, 0.15);\n",
              "      fill: #174EA6;\n",
              "    }\n",
              "\n",
              "    .colab-df-buttons div {\n",
              "      margin-bottom: 4px;\n",
              "    }\n",
              "\n",
              "    [theme=dark] .colab-df-convert {\n",
              "      background-color: #3B4455;\n",
              "      fill: #D2E3FC;\n",
              "    }\n",
              "\n",
              "    [theme=dark] .colab-df-convert:hover {\n",
              "      background-color: #434B5C;\n",
              "      box-shadow: 0px 1px 3px 1px rgba(0, 0, 0, 0.15);\n",
              "      filter: drop-shadow(0px 1px 2px rgba(0, 0, 0, 0.3));\n",
              "      fill: #FFFFFF;\n",
              "    }\n",
              "  </style>\n",
              "\n",
              "    <script>\n",
              "      const buttonEl =\n",
              "        document.querySelector('#df-c1d3da47-1035-4068-a499-236ac59c8cfb button.colab-df-convert');\n",
              "      buttonEl.style.display =\n",
              "        google.colab.kernel.accessAllowed ? 'block' : 'none';\n",
              "\n",
              "      async function convertToInteractive(key) {\n",
              "        const element = document.querySelector('#df-c1d3da47-1035-4068-a499-236ac59c8cfb');\n",
              "        const dataTable =\n",
              "          await google.colab.kernel.invokeFunction('convertToInteractive',\n",
              "                                                    [key], {});\n",
              "        if (!dataTable) return;\n",
              "\n",
              "        const docLinkHtml = 'Like what you see? Visit the ' +\n",
              "          '<a target=\"_blank\" href=https://colab.research.google.com/notebooks/data_table.ipynb>data table notebook</a>'\n",
              "          + ' to learn more about interactive tables.';\n",
              "        element.innerHTML = '';\n",
              "        dataTable['output_type'] = 'display_data';\n",
              "        await google.colab.output.renderOutput(dataTable, element);\n",
              "        const docLink = document.createElement('div');\n",
              "        docLink.innerHTML = docLinkHtml;\n",
              "        element.appendChild(docLink);\n",
              "      }\n",
              "    </script>\n",
              "  </div>\n",
              "\n",
              "    </div>\n",
              "  </div>\n"
            ],
            "text/plain": [
              "        x\n",
              "0  (pid1)"
            ]
          },
          "execution_count": 27,
          "metadata": {},
          "output_type": "execute_result"
        }
      ],
      "source": [
        "dataframe."
      ]
    },
    {
      "cell_type": "code",
      "execution_count": null,
      "metadata": {
        "colab": {
          "base_uri": "https://localhost:8080/"
        },
        "id": "ybqbSJ7yg8Eu",
        "outputId": "691f095e-808d-4d31-fa10-7afd384a93b2"
      },
      "outputs": [
        {
          "name": "stdout",
          "output_type": "stream",
          "text": [
            "None\n"
          ]
        },
        {
          "data": {
            "text/plain": [
              "True"
            ]
          },
          "execution_count": 35,
          "metadata": {},
          "output_type": "execute_result"
        }
      ],
      "source": [
        "print(dataframe['x'][0])\n",
        "dataframe.isnull().iloc[0,0]"
      ]
    },
    {
      "cell_type": "code",
      "execution_count": null,
      "metadata": {
        "colab": {
          "base_uri": "https://localhost:8080/"
        },
        "id": "2sQrAGTRfV4H",
        "outputId": "5c9216f5-fef2-4bbe-b668-58decc5fef3f"
      },
      "outputs": [
        {
          "name": "stdout",
          "output_type": "stream",
          "text": [
            "OPTIONAL MATCH (x:Packet) WHERE x.pid1 = 01B013D7 OR x.pid2 = 01B013D7\n"
          ]
        }
      ],
      "source": [
        "print(f\"OPTIONAL MATCH (x:Packet) WHERE x.pid1 = {dtid} OR x.pid2 = {dtid}\")"
      ]
    },
    {
      "cell_type": "code",
      "execution_count": null,
      "metadata": {
        "colab": {
          "base_uri": "https://localhost:8080/"
        },
        "id": "fONUvMikyfZJ",
        "outputId": "8081dbd5-f2f9-4b80-955d-3765a8a0e812"
      },
      "outputs": [
        {
          "name": "stdout",
          "output_type": "stream",
          "text": [
            "      x\n",
            "0  None\n",
            "True\n"
          ]
        }
      ],
      "source": [
        "for ind in df.index:\n",
        "\n",
        "    if not (df.isnull().iloc[ind,6]) and not (df.isnull().iloc[ind,7]):\n",
        "       dtid = str(df['dtid'][ind])\n",
        "       res = optional_match_query(dtid)\n",
        "       print(res)\n",
        "       break\n",
        "\n",
        "\n",
        "\n",
        "\n",
        "\n",
        "\n",
        "\n",
        "\n",
        "\n",
        "\n"
      ]
    },
    {
      "cell_type": "code",
      "execution_count": null,
      "metadata": {
        "id": "nnRYLclvYU5m"
      },
      "outputs": [],
      "source": [
        "\n",
        "\n",
        " a,b,c=driver.execute_query(f\"OPTIONAL MATCH (x:Packet) WHERE x.pid1 = {str(df['dtid'][ind])} OR x.pid2 = {str(df['dtid'][ind])}\")\n",
        "      print(a[0])\n"
      ]
    },
    {
      "cell_type": "code",
      "execution_count": null,
      "metadata": {
        "id": "XG9AWYDsYLyc"
      },
      "outputs": [],
      "source": []
    },
    {
      "cell_type": "code",
      "execution_count": null,
      "metadata": {
        "colab": {
          "base_uri": "https://localhost:8080/"
        },
        "id": "G02Kg_DMpSh8",
        "outputId": "a66f1035-f28a-4b4d-f041-5617538cbf28"
      },
      "outputs": [
        {
          "data": {
            "text/plain": [
              "{'x': None}"
            ]
          },
          "execution_count": 29,
          "metadata": {},
          "output_type": "execute_result"
        }
      ],
      "source": [
        "a,b,c = driver.execute_query(\"LOAD CSV WITH HEADERS FROM 'https://drive.usercontent.google.com/download?id=16tsiBER7oPMnamnHV8zEtl_ygWnMmeDv&export=download&authuser=0&confirm=t&uuid=f5722d21-20bf-42c5-9cd1-91afb2e4be90&at=APZUnTWkxXSftv0Zez9Sdj2KR7be:1702665503606' AS row with row where row.otid is not null AND row.dtid is not null OPTIONAL MATCH (x:Packet) WHERE x.pid1 = row.dtid OR x.pid2 = row.dtid return x\")\n",
        "\n",
        "a[0].data()\n",
        "\n",
        "\n"
      ]
    },
    {
      "cell_type": "code",
      "execution_count": null,
      "metadata": {
        "colab": {
          "base_uri": "https://localhost:8080/"
        },
        "id": "lRQ4_eLiptXl",
        "outputId": "28154fec-a892-42a9-fb76-c825c153d018"
      },
      "outputs": [
        {
          "data": {
            "text/plain": [
              "neo4j._data.Record"
            ]
          },
          "execution_count": 17,
          "metadata": {},
          "output_type": "execute_result"
        }
      ],
      "source": [
        "type(records[0])"
      ]
    },
    {
      "cell_type": "code",
      "execution_count": null,
      "metadata": {
        "id": "b-Chb13ymjyF"
      },
      "outputs": [],
      "source": [
        "# Import the json module for pretty visualization\n",
        "import json\n",
        "\n",
        "# Cypher query\n",
        "list_all_gds_procedures_query = \"\"\"\n",
        "    CALL gds.list()\n",
        "\"\"\"\n",
        "\n",
        "# Create a driver session\n",
        "with driver.session() as session:\n",
        "    # Use .data() to access the results array\n",
        "    results = session.run(list_all_gds_procedures_query).data()\n",
        "\n",
        "    # Print the prettified result\n",
        "    print(json.dumps(results[:5], indent=2))"
      ]
    },
    {
      "cell_type": "code",
      "execution_count": null,
      "metadata": {
        "id": "yMZLHU0Ak2lT"
      },
      "outputs": [],
      "source": [
        "# Client import\n",
        "from graphdatascience import GraphDataScience\n",
        "\n",
        "# Replace with the actual URI, username and password\n",
        "AURA_CONNECTION_URI = \"neo4j+s://b5b9b66f.databases.neo4j.io\"\n",
        "AURA_USERNAME = \"neo4j\"\n",
        "AURA_PASSWORD = \"BYORmh0uldfQJlHwmYXafzerP1PCr4T6zoO0UwpMl6o\"\n",
        "\n",
        "# Client instantiation\n",
        "gds = GraphDataScience(\n",
        "    AURA_CONNECTION_URI,\n",
        "    auth=(AURA_USERNAME, AURA_PASSWORD),\n",
        "    aura_ds=True\n",
        ")"
      ]
    },
    {
      "cell_type": "code",
      "execution_count": null,
      "metadata": {
        "id": "TAdovC_qk2qd"
      },
      "outputs": [],
      "source": []
    }
  ],
  "metadata": {
    "colab": {
      "provenance": [],
      "mount_file_id": "1-dGuNmEXPIC5SPEoldk7vu3JpQn_rkbv",
      "authorship_tag": "ABX9TyOhcs8NKATXumoxYDkT98V9",
      "include_colab_link": true
    },
    "kernelspec": {
      "display_name": "Python 3",
      "name": "python3"
    },
    "language_info": {
      "name": "python"
    }
  },
  "nbformat": 4,
  "nbformat_minor": 0
}